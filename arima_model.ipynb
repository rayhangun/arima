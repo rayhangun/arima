{
  "nbformat": 4,
  "nbformat_minor": 0,
  "metadata": {
    "colab": {
      "provenance": []
    },
    "kernelspec": {
      "name": "python3",
      "display_name": "Python 3"
    },
    "language_info": {
      "name": "python"
    }
  },
  "cells": [
    {
      "cell_type": "markdown",
      "source": [
        "Introduction"
      ],
      "metadata": {
        "id": "jnBZsKyrtfkA"
      }
    },
    {
      "cell_type": "markdown",
      "source": [
        "AR (Autoregressive) dan MA (Moving Average) adalah dua jenis model dasar dalam analisis deret waktu \"time series analysis\"."
      ],
      "metadata": {
        "id": "jFHng1xPtjGt"
      }
    },
    {
      "cell_type": "markdown",
      "source": [
        "AR (Autoregressive): Menggunakan nilai masa lalu (lagged values) dari seri itu sendiri untuk memprediksi nilai saat ini.\n",
        "- AR → cocok untuk tren atau momentum jangka panjang.\n",
        "\n",
        "MA (Moving Average): Menggunakan nilai error (residual) dari prediksi sebelumnya untuk memodelkan nilai sekarang.\n",
        "- MA → cocok untuk menangkap dampak “kejutan” atau outlier yang bersifat sementara.\n",
        "\n",
        "Contoh:\n",
        "- AR: \"Harga beras besok dipengaruhi harga hari ini.\"\n",
        "- MA: \"Harga beras hari ini dipengaruhi selisih prediksi kemarin yang salah.\""
      ],
      "metadata": {
        "id": "kIMXEhu_tmrl"
      }
    },
    {
      "cell_type": "markdown",
      "source": [
        "Model Kombinasi (Advanced):\n",
        "- ARMA(p, q) menggabungkan kedua komponen.\n",
        "- ARIMA menambahkan diferensiasi (I) agar data stasioner.\n",
        "- SARIMA juga memasukkan komponen musiman \"Seasonal\" (S)."
      ],
      "metadata": {
        "id": "s_tcXJSg_9-p"
      }
    },
    {
      "cell_type": "markdown",
      "source": [
        "p: jumlah lag dari nilai masa lalu yang digunakan sebagai variabel input (AR)\n",
        "\n",
        "d: berapa kali data harus di-diferensiasi agar stasioner (I)\n",
        "\n",
        "q: jumlah lag dari error yang digunakan dalam model (MA)"
      ],
      "metadata": {
        "id": "G2P3sl8mApHv"
      }
    },
    {
      "cell_type": "markdown",
      "source": [
        "Pemilihan Parameter\n",
        "- Tes stasionaritas (ADF test) → tentukan d\n",
        "- Plot ACF/PACF untuk menemukan nilai p dan q\n",
        "- Evaluasi model dengan AIC/BIC atau grid search"
      ],
      "metadata": {
        "id": "-XiZsUo9A2hV"
      }
    },
    {
      "cell_type": "markdown",
      "source": [
        "Load & Visualisasi Data"
      ],
      "metadata": {
        "id": "1U0HFdcRSjQR"
      }
    },
    {
      "cell_type": "code",
      "execution_count": 1,
      "metadata": {
        "id": "lbNZmd9fRaxW"
      },
      "outputs": [],
      "source": [
        "import pandas as pd\n",
        "import matplotlib.pyplot as plt"
      ]
    },
    {
      "cell_type": "code",
      "source": [
        "df = pd.read_csv('/content/drive/MyDrive/il_du_revenue.csv', parse_dates=['date'], index_col='date')"
      ],
      "metadata": {
        "colab": {
          "base_uri": "https://localhost:8080/"
        },
        "id": "4vBx_NfpS9hs",
        "outputId": "bc6533a6-684f-48ac-cdef-25264988f603"
      },
      "execution_count": 2,
      "outputs": [
        {
          "output_type": "stream",
          "name": "stderr",
          "text": [
            "/tmp/ipython-input-2-1311053516.py:1: UserWarning: Could not infer format, so each element will be parsed individually, falling back to `dateutil`. To ensure parsing is consistent and as-expected, please specify a format.\n",
            "  df = pd.read_csv('/content/drive/MyDrive/il_du_revenue.csv', parse_dates=['date'], index_col='date')\n"
          ]
        }
      ]
    },
    {
      "cell_type": "code",
      "source": [
        "df.head()"
      ],
      "metadata": {
        "colab": {
          "base_uri": "https://localhost:8080/",
          "height": 238
        },
        "id": "Xx3_fVi2USOy",
        "outputId": "7d1e4b8e-b614-4b39-ee36-f757cec149ae"
      },
      "execution_count": 3,
      "outputs": [
        {
          "output_type": "execute_result",
          "data": {
            "text/plain": [
              "                  revenue\n",
              "date                     \n",
              "2023-01-01  1,335,195,000\n",
              "2023-02-01  1,179,731,000\n",
              "2023-03-01  1,421,541,000\n",
              "2023-04-01  1,398,688,000\n",
              "2023-05-01  1,507,807,000"
            ],
            "text/html": [
              "\n",
              "  <div id=\"df-03f29591-f08a-45f5-b0a0-8ce09bc1d140\" class=\"colab-df-container\">\n",
              "    <div>\n",
              "<style scoped>\n",
              "    .dataframe tbody tr th:only-of-type {\n",
              "        vertical-align: middle;\n",
              "    }\n",
              "\n",
              "    .dataframe tbody tr th {\n",
              "        vertical-align: top;\n",
              "    }\n",
              "\n",
              "    .dataframe thead th {\n",
              "        text-align: right;\n",
              "    }\n",
              "</style>\n",
              "<table border=\"1\" class=\"dataframe\">\n",
              "  <thead>\n",
              "    <tr style=\"text-align: right;\">\n",
              "      <th></th>\n",
              "      <th>revenue</th>\n",
              "    </tr>\n",
              "    <tr>\n",
              "      <th>date</th>\n",
              "      <th></th>\n",
              "    </tr>\n",
              "  </thead>\n",
              "  <tbody>\n",
              "    <tr>\n",
              "      <th>2023-01-01</th>\n",
              "      <td>1,335,195,000</td>\n",
              "    </tr>\n",
              "    <tr>\n",
              "      <th>2023-02-01</th>\n",
              "      <td>1,179,731,000</td>\n",
              "    </tr>\n",
              "    <tr>\n",
              "      <th>2023-03-01</th>\n",
              "      <td>1,421,541,000</td>\n",
              "    </tr>\n",
              "    <tr>\n",
              "      <th>2023-04-01</th>\n",
              "      <td>1,398,688,000</td>\n",
              "    </tr>\n",
              "    <tr>\n",
              "      <th>2023-05-01</th>\n",
              "      <td>1,507,807,000</td>\n",
              "    </tr>\n",
              "  </tbody>\n",
              "</table>\n",
              "</div>\n",
              "    <div class=\"colab-df-buttons\">\n",
              "\n",
              "  <div class=\"colab-df-container\">\n",
              "    <button class=\"colab-df-convert\" onclick=\"convertToInteractive('df-03f29591-f08a-45f5-b0a0-8ce09bc1d140')\"\n",
              "            title=\"Convert this dataframe to an interactive table.\"\n",
              "            style=\"display:none;\">\n",
              "\n",
              "  <svg xmlns=\"http://www.w3.org/2000/svg\" height=\"24px\" viewBox=\"0 -960 960 960\">\n",
              "    <path d=\"M120-120v-720h720v720H120Zm60-500h600v-160H180v160Zm220 220h160v-160H400v160Zm0 220h160v-160H400v160ZM180-400h160v-160H180v160Zm440 0h160v-160H620v160ZM180-180h160v-160H180v160Zm440 0h160v-160H620v160Z\"/>\n",
              "  </svg>\n",
              "    </button>\n",
              "\n",
              "  <style>\n",
              "    .colab-df-container {\n",
              "      display:flex;\n",
              "      gap: 12px;\n",
              "    }\n",
              "\n",
              "    .colab-df-convert {\n",
              "      background-color: #E8F0FE;\n",
              "      border: none;\n",
              "      border-radius: 50%;\n",
              "      cursor: pointer;\n",
              "      display: none;\n",
              "      fill: #1967D2;\n",
              "      height: 32px;\n",
              "      padding: 0 0 0 0;\n",
              "      width: 32px;\n",
              "    }\n",
              "\n",
              "    .colab-df-convert:hover {\n",
              "      background-color: #E2EBFA;\n",
              "      box-shadow: 0px 1px 2px rgba(60, 64, 67, 0.3), 0px 1px 3px 1px rgba(60, 64, 67, 0.15);\n",
              "      fill: #174EA6;\n",
              "    }\n",
              "\n",
              "    .colab-df-buttons div {\n",
              "      margin-bottom: 4px;\n",
              "    }\n",
              "\n",
              "    [theme=dark] .colab-df-convert {\n",
              "      background-color: #3B4455;\n",
              "      fill: #D2E3FC;\n",
              "    }\n",
              "\n",
              "    [theme=dark] .colab-df-convert:hover {\n",
              "      background-color: #434B5C;\n",
              "      box-shadow: 0px 1px 3px 1px rgba(0, 0, 0, 0.15);\n",
              "      filter: drop-shadow(0px 1px 2px rgba(0, 0, 0, 0.3));\n",
              "      fill: #FFFFFF;\n",
              "    }\n",
              "  </style>\n",
              "\n",
              "    <script>\n",
              "      const buttonEl =\n",
              "        document.querySelector('#df-03f29591-f08a-45f5-b0a0-8ce09bc1d140 button.colab-df-convert');\n",
              "      buttonEl.style.display =\n",
              "        google.colab.kernel.accessAllowed ? 'block' : 'none';\n",
              "\n",
              "      async function convertToInteractive(key) {\n",
              "        const element = document.querySelector('#df-03f29591-f08a-45f5-b0a0-8ce09bc1d140');\n",
              "        const dataTable =\n",
              "          await google.colab.kernel.invokeFunction('convertToInteractive',\n",
              "                                                    [key], {});\n",
              "        if (!dataTable) return;\n",
              "\n",
              "        const docLinkHtml = 'Like what you see? Visit the ' +\n",
              "          '<a target=\"_blank\" href=https://colab.research.google.com/notebooks/data_table.ipynb>data table notebook</a>'\n",
              "          + ' to learn more about interactive tables.';\n",
              "        element.innerHTML = '';\n",
              "        dataTable['output_type'] = 'display_data';\n",
              "        await google.colab.output.renderOutput(dataTable, element);\n",
              "        const docLink = document.createElement('div');\n",
              "        docLink.innerHTML = docLinkHtml;\n",
              "        element.appendChild(docLink);\n",
              "      }\n",
              "    </script>\n",
              "  </div>\n",
              "\n",
              "\n",
              "    <div id=\"df-aa228111-526e-41ca-9b52-5dbffeb8dea8\">\n",
              "      <button class=\"colab-df-quickchart\" onclick=\"quickchart('df-aa228111-526e-41ca-9b52-5dbffeb8dea8')\"\n",
              "                title=\"Suggest charts\"\n",
              "                style=\"display:none;\">\n",
              "\n",
              "<svg xmlns=\"http://www.w3.org/2000/svg\" height=\"24px\"viewBox=\"0 0 24 24\"\n",
              "     width=\"24px\">\n",
              "    <g>\n",
              "        <path d=\"M19 3H5c-1.1 0-2 .9-2 2v14c0 1.1.9 2 2 2h14c1.1 0 2-.9 2-2V5c0-1.1-.9-2-2-2zM9 17H7v-7h2v7zm4 0h-2V7h2v10zm4 0h-2v-4h2v4z\"/>\n",
              "    </g>\n",
              "</svg>\n",
              "      </button>\n",
              "\n",
              "<style>\n",
              "  .colab-df-quickchart {\n",
              "      --bg-color: #E8F0FE;\n",
              "      --fill-color: #1967D2;\n",
              "      --hover-bg-color: #E2EBFA;\n",
              "      --hover-fill-color: #174EA6;\n",
              "      --disabled-fill-color: #AAA;\n",
              "      --disabled-bg-color: #DDD;\n",
              "  }\n",
              "\n",
              "  [theme=dark] .colab-df-quickchart {\n",
              "      --bg-color: #3B4455;\n",
              "      --fill-color: #D2E3FC;\n",
              "      --hover-bg-color: #434B5C;\n",
              "      --hover-fill-color: #FFFFFF;\n",
              "      --disabled-bg-color: #3B4455;\n",
              "      --disabled-fill-color: #666;\n",
              "  }\n",
              "\n",
              "  .colab-df-quickchart {\n",
              "    background-color: var(--bg-color);\n",
              "    border: none;\n",
              "    border-radius: 50%;\n",
              "    cursor: pointer;\n",
              "    display: none;\n",
              "    fill: var(--fill-color);\n",
              "    height: 32px;\n",
              "    padding: 0;\n",
              "    width: 32px;\n",
              "  }\n",
              "\n",
              "  .colab-df-quickchart:hover {\n",
              "    background-color: var(--hover-bg-color);\n",
              "    box-shadow: 0 1px 2px rgba(60, 64, 67, 0.3), 0 1px 3px 1px rgba(60, 64, 67, 0.15);\n",
              "    fill: var(--button-hover-fill-color);\n",
              "  }\n",
              "\n",
              "  .colab-df-quickchart-complete:disabled,\n",
              "  .colab-df-quickchart-complete:disabled:hover {\n",
              "    background-color: var(--disabled-bg-color);\n",
              "    fill: var(--disabled-fill-color);\n",
              "    box-shadow: none;\n",
              "  }\n",
              "\n",
              "  .colab-df-spinner {\n",
              "    border: 2px solid var(--fill-color);\n",
              "    border-color: transparent;\n",
              "    border-bottom-color: var(--fill-color);\n",
              "    animation:\n",
              "      spin 1s steps(1) infinite;\n",
              "  }\n",
              "\n",
              "  @keyframes spin {\n",
              "    0% {\n",
              "      border-color: transparent;\n",
              "      border-bottom-color: var(--fill-color);\n",
              "      border-left-color: var(--fill-color);\n",
              "    }\n",
              "    20% {\n",
              "      border-color: transparent;\n",
              "      border-left-color: var(--fill-color);\n",
              "      border-top-color: var(--fill-color);\n",
              "    }\n",
              "    30% {\n",
              "      border-color: transparent;\n",
              "      border-left-color: var(--fill-color);\n",
              "      border-top-color: var(--fill-color);\n",
              "      border-right-color: var(--fill-color);\n",
              "    }\n",
              "    40% {\n",
              "      border-color: transparent;\n",
              "      border-right-color: var(--fill-color);\n",
              "      border-top-color: var(--fill-color);\n",
              "    }\n",
              "    60% {\n",
              "      border-color: transparent;\n",
              "      border-right-color: var(--fill-color);\n",
              "    }\n",
              "    80% {\n",
              "      border-color: transparent;\n",
              "      border-right-color: var(--fill-color);\n",
              "      border-bottom-color: var(--fill-color);\n",
              "    }\n",
              "    90% {\n",
              "      border-color: transparent;\n",
              "      border-bottom-color: var(--fill-color);\n",
              "    }\n",
              "  }\n",
              "</style>\n",
              "\n",
              "      <script>\n",
              "        async function quickchart(key) {\n",
              "          const quickchartButtonEl =\n",
              "            document.querySelector('#' + key + ' button');\n",
              "          quickchartButtonEl.disabled = true;  // To prevent multiple clicks.\n",
              "          quickchartButtonEl.classList.add('colab-df-spinner');\n",
              "          try {\n",
              "            const charts = await google.colab.kernel.invokeFunction(\n",
              "                'suggestCharts', [key], {});\n",
              "          } catch (error) {\n",
              "            console.error('Error during call to suggestCharts:', error);\n",
              "          }\n",
              "          quickchartButtonEl.classList.remove('colab-df-spinner');\n",
              "          quickchartButtonEl.classList.add('colab-df-quickchart-complete');\n",
              "        }\n",
              "        (() => {\n",
              "          let quickchartButtonEl =\n",
              "            document.querySelector('#df-aa228111-526e-41ca-9b52-5dbffeb8dea8 button');\n",
              "          quickchartButtonEl.style.display =\n",
              "            google.colab.kernel.accessAllowed ? 'block' : 'none';\n",
              "        })();\n",
              "      </script>\n",
              "    </div>\n",
              "\n",
              "    </div>\n",
              "  </div>\n"
            ],
            "application/vnd.google.colaboratory.intrinsic+json": {
              "type": "dataframe",
              "variable_name": "df",
              "summary": "{\n  \"name\": \"df\",\n  \"rows\": 27,\n  \"fields\": [\n    {\n      \"column\": \"date\",\n      \"properties\": {\n        \"dtype\": \"date\",\n        \"min\": \"2023-01-01 00:00:00\",\n        \"max\": \"2025-03-01 00:00:00\",\n        \"num_unique_values\": 27,\n        \"samples\": [\n          \"2023-09-01 00:00:00\",\n          \"2024-02-01 00:00:00\",\n          \"2023-10-01 00:00:00\"\n        ],\n        \"semantic_type\": \"\",\n        \"description\": \"\"\n      }\n    },\n    {\n      \"column\": \"revenue\",\n      \"properties\": {\n        \"dtype\": \"string\",\n        \"num_unique_values\": 27,\n        \"samples\": [\n          \"1,614,244,000\",\n          \"1,072,094,000\",\n          \"1,543,771,000\"\n        ],\n        \"semantic_type\": \"\",\n        \"description\": \"\"\n      }\n    }\n  ]\n}"
            }
          },
          "metadata": {},
          "execution_count": 3
        }
      ]
    },
    {
      "cell_type": "code",
      "source": [
        "df.info()"
      ],
      "metadata": {
        "colab": {
          "base_uri": "https://localhost:8080/"
        },
        "id": "p_wjq57qUXxM",
        "outputId": "3825bd3b-4967-4d1b-d520-414c27498c36"
      },
      "execution_count": 4,
      "outputs": [
        {
          "output_type": "stream",
          "name": "stdout",
          "text": [
            "<class 'pandas.core.frame.DataFrame'>\n",
            "DatetimeIndex: 27 entries, 2023-01-01 to 2025-03-01\n",
            "Data columns (total 1 columns):\n",
            " #   Column   Non-Null Count  Dtype \n",
            "---  ------   --------------  ----- \n",
            " 0   revenue  27 non-null     object\n",
            "dtypes: object(1)\n",
            "memory usage: 432.0+ bytes\n"
          ]
        }
      ]
    },
    {
      "cell_type": "code",
      "source": [
        "# Hapus karakter non-digit di kolom revenue dan ubah ke float\n",
        "df['revenue'] = (\n",
        "    df['revenue']\n",
        "    .astype(str)\n",
        "    .str.replace(r'[^\\d\\.]', '', regex=True)  # buang semua kecuali angka dan titik\n",
        "    .replace('', '0')                         # kosong jadi 0\n",
        "    .astype(float)\n",
        ")"
      ],
      "metadata": {
        "id": "W7fEJkNeV6dr"
      },
      "execution_count": 5,
      "outputs": []
    },
    {
      "cell_type": "code",
      "source": [
        "# Cek tipe data\n",
        "print(df.dtypes)\n",
        "# revenue    float64\n",
        "# dtype: object"
      ],
      "metadata": {
        "colab": {
          "base_uri": "https://localhost:8080/"
        },
        "id": "xgLPxNOHV_yS",
        "outputId": "4c5cc51a-fb58-4170-ad20-3c75cde6b01d"
      },
      "execution_count": 6,
      "outputs": [
        {
          "output_type": "stream",
          "name": "stdout",
          "text": [
            "revenue    float64\n",
            "dtype: object\n"
          ]
        }
      ]
    },
    {
      "cell_type": "code",
      "source": [
        "# Plot time series\n",
        "df.plot(figsize=(10,4), ylabel='Revenue', title='Revenue Over Time')\n",
        "plt.show()"
      ],
      "metadata": {
        "colab": {
          "base_uri": "https://localhost:8080/",
          "height": 426
        },
        "id": "9kr-SK6bUosS",
        "outputId": "f1e18be9-6a6a-442c-8472-aeb77ad965fc"
      },
      "execution_count": 7,
      "outputs": [
        {
          "output_type": "display_data",
          "data": {
            "text/plain": [
              "<Figure size 1000x400 with 1 Axes>"
            ],
            "image/png": "[encoded data removed]"
          },
          "metadata": {}
        }
      ]
    },
    {
      "cell_type": "markdown",
      "source": [
        "Cek Stasionaritas"
      ],
      "metadata": {
        "id": "3PFgStJLhuJ2"
      }
    },
    {
      "cell_type": "code",
      "source": [
        "from statsmodels.tsa.stattools import adfuller"
      ],
      "metadata": {
        "id": "wHFVKBzYhvfe"
      },
      "execution_count": 8,
      "outputs": []
    },
    {
      "cell_type": "code",
      "source": [
        "result = adfuller(df['revenue'])\n",
        "print('p-value =', result[1])"
      ],
      "metadata": {
        "colab": {
          "base_uri": "https://localhost:8080/"
        },
        "id": "TxcwaziFhztR",
        "outputId": "0b3c0a2e-0b48-412c-c662-a3cbb24c2b8e"
      },
      "execution_count": 9,
      "outputs": [
        {
          "output_type": "stream",
          "name": "stdout",
          "text": [
            "p-value = 0.029495962121483303\n"
          ]
        }
      ]
    },
    {
      "cell_type": "markdown",
      "source": [
        "Interpretasi p-value\n",
        "- p-value < α (biasanya α = 0.05): tolak H₀ → data stasioner.\n",
        "- p-value ≥ α: gagal tolak H₀ → data non-stasioner.\n",
        "\n"
      ],
      "metadata": {
        "id": "GfnrK2USixXy"
      }
    },
    {
      "cell_type": "markdown",
      "source": [
        "Jika Data Tidak Stasioner (Jalankan Kode berikut, hapus \"#\")"
      ],
      "metadata": {
        "id": "RUFhPjgljHsB"
      }
    },
    {
      "cell_type": "code",
      "source": [
        "# Solusi 1: Differencing (Menghilangkan Tren)\n",
        "\n",
        "# First Difference\n",
        "# df['diff1'] = df['revenue'] - df['revenue'].shift(1)\n",
        "\n",
        "# Cek ulang stasionaritas pada df['diff1'] dengan ADF test.\n",
        "\n",
        "# Jika masih non-stasioner, ulangi (second difference):\n",
        "# df['diff2'] = df['diff1'] - df['diff1'].shift(1)\n",
        "\n",
        "# Catatan: Biasanya satu kali differencing \"first difference\" (d=1) sudah cukup untuk menghilangkan tren linear. Rekomendasi maks dua kali differencing, karena lebih dari itu jumlah data akan berkurang signifikan\n",
        "\n",
        "# Solusi 2: Seasonal Difference\n",
        "# Jika terdapat efek Seasonal \"Musiman\", maka keluarkan data tersebut dari analisis\n",
        "# atau bisa lakukan Seasonal Differencing, tetapi ini akan menghilangkan banyak data, jangan lakukan jika data Anda sedikit n < 30.\n",
        "# df['diff_seasonal'] = df['revenue'] - df['revenue'].shift(12)\n",
        "\n",
        "\n",
        "# Solusi 3: Transformasi Variansi (Menhilangkan Heteroskedastisitas)\n",
        "# Beberapa data menunjukkan variansi yang berubah-ubah (heteroskedastisitas).\n",
        "# Untuk menstabilkannya, gunakan:\n",
        "\n",
        "# Log transformation\n",
        "# df['log_revenue'] = np.log(df['revenue'])\n",
        "\n",
        "\n",
        "# Solusi 4: Detrending (Menghapus Tren dengan Regresi)\n",
        "# Jika tren tidak linier, kamu bisa:\n",
        "# Fit model regresi sederhana (misalnya polinomial) dan Kurangkan hasil prediksi tren dari nilai asli:\n",
        "# trend = np.poly1d(np.polyfit(np.arange(len(df)), df['revenue'], deg=2))\n",
        "# df['detrended'] = df['revenue'] - trend(np.arange(len(df)))\n"
      ],
      "metadata": {
        "id": "bibVI-iPi2SF"
      },
      "execution_count": 10,
      "outputs": []
    },
    {
      "cell_type": "markdown",
      "source": [
        "Tentukan Parameter Model\n",
        "- Buat ACF/PACF plot untuk data yang sudah distasioner:"
      ],
      "metadata": {
        "id": "b4g1VeHXnGHl"
      }
    },
    {
      "cell_type": "code",
      "source": [
        "from statsmodels.graphics.tsaplots import plot_acf, plot_pacf"
      ],
      "metadata": {
        "id": "nWGC5bd2jXpH"
      },
      "execution_count": 11,
      "outputs": []
    },
    {
      "cell_type": "code",
      "source": [
        "plot_acf(df['revenue'])\n",
        "plot_pacf(df['revenue'])\n",
        "plt.show()"
      ],
      "metadata": {
        "colab": {
          "base_uri": "https://localhost:8080/",
          "height": 887
        },
        "id": "pwV4nGXgnQTo",
        "outputId": "9d32f9a1-9518-47d3-fa0f-30429ac58316"
      },
      "execution_count": 12,
      "outputs": [
        {
          "output_type": "display_data",
          "data": {
            "text/plain": [
              "<Figure size 640x480 with 1 Axes>"
            ],
            "image/png": "[encoded data removed]"
          },
          "metadata": {}
        },
        {
          "output_type": "display_data",
          "data": {
            "text/plain": [
              "<Figure size 640x480 with 1 Axes>"
            ],
            "image/png": "[encoded data removed]"
          },
          "metadata": {}
        }
      ]
    },
    {
      "cell_type": "markdown",
      "source": [
        "Pada SARIMA, kita punya dua “pasang” parameter ARIMA—non-musiman (p, d, q) dan musiman (P, D, Q, m). Setelah membuat data stasioner (differencing biasa dan/atau musiman), kita gunakan ACF dan PACF untuk memilih p, q, P, dan Q:\n",
        "\n",
        "1. Non-musiman: p (AR) dan q (MA)\n",
        "- p (Order AR non-musiman)\n",
        "\n",
        " - Lihat plot PACF (Partial Autocorrelation Function) pada data yang sudah distasioner (setelah differencing d kali).\n",
        "\n",
        " - Cari lag ke-k pertama yang masih signifikan (misalnya spike keluar dari batas confidence interval), kemudian setelah lag k spike-nya “berhenti” (cut-off).\n",
        "\n",
        " - Nilai k itu biasanya kita pilih sebagai p.\n",
        "\n",
        "- q (Order MA non-musiman)\n",
        "\n",
        " - Lihat plot ACF (Autocorrelation Function) pada data stasioner.\n",
        "\n",
        " - Cari lag ke-k pertama yang signifikan dengan pola cut-off—setelah lag k korelasi langsung turun ke nol.\n",
        "\n",
        " - Nilai k adalah kandidat untuk q.\n",
        "\n",
        "2. Musiman: P (AR musiman) dan Q (MA musiman)\n",
        "Misalkan data Anda bulanan dengan periode musiman m = 12.\n",
        "\n",
        "- P (Order AR musiman)\n",
        "\n",
        " - Lihat PACF pada lag-lag kelipatan m (12, 24, 36, …).\n",
        "\n",
        " - Kalau di lag 12 ada spike yang signifikan lalu setelahnya tidak ada spike di kelipatan 12 berikutnya, maka P = 1.\n",
        "\n",
        " - Kalau misalnya lag 12 dan lag 24 sama-sama signifikan, mungkin P = 2, dan seterusnya.\n",
        "\n",
        "- Q (Order MA musiman)\n",
        "\n",
        " - Lihat ACF pada lag-lag kelipatan m.\n",
        "\n",
        " - Spike signifikan di lag 12 (cut-off setelahnya) → Q = 1. Spike di 12 & 24 → Q = 2, dst.\n",
        "\n"
      ],
      "metadata": {
        "id": "YDQ-AN7XpsUu"
      }
    },
    {
      "cell_type": "markdown",
      "source": [
        "Berdasarkan grafik:\n",
        "\n",
        "ACF:\n",
        "\n",
        "- Lag 1 sangat tinggi, kemudian gradual decay hingga lag 6–8 (tanpa cut-off tiba-tiba) ⇒ indikasi AR non-musiman, bukan MA.\n",
        "\n",
        "- Spike positif di lag 12 (cut-off setelahnya) ⇒ indikasi seasonal MA di Q.\n",
        "\n",
        "PACF:\n",
        "\n",
        "- Spike signifikan hanya di lag 1, lalu semua lag 2–11 masuk confidence band ⇒ p = 1, q non-musiman = 0.\n",
        "\n",
        "- Tidak ada spike musiman (lag 12) di PACF ⇒ P = 0."
      ],
      "metadata": {
        "id": "aI0qgUqer3zr"
      }
    },
    {
      "cell_type": "markdown",
      "source": [
        "**Fit Model SARIMA**"
      ],
      "metadata": {
        "id": "Zh51V7beBl1a"
      }
    },
    {
      "cell_type": "code",
      "source": [
        "from statsmodels.tsa.statespace.sarimax import SARIMAX"
      ],
      "metadata": {
        "id": "yGWAwThpno7r"
      },
      "execution_count": 20,
      "outputs": []
    },
    {
      "cell_type": "code",
      "source": [
        "model = SARIMAX(df['revenue'],\n",
        "                order=(1, 0, 0),\n",
        "                seasonal_order=(0, 0, 1, 12))"
      ],
      "metadata": {
        "colab": {
          "base_uri": "https://localhost:8080/"
        },
        "id": "7YR2ipxMBz0d",
        "outputId": "54dad13f-70df-4693-9e03-779754fc0528"
      },
      "execution_count": 23,
      "outputs": [
        {
          "output_type": "stream",
          "name": "stderr",
          "text": [
            "/usr/local/lib/python3.11/dist-packages/statsmodels/tsa/base/tsa_model.py:473: ValueWarning: No frequency information was provided, so inferred frequency MS will be used.\n",
            "  self._init_dates(dates, freq)\n",
            "/usr/local/lib/python3.11/dist-packages/statsmodels/tsa/base/tsa_model.py:473: ValueWarning: No frequency information was provided, so inferred frequency MS will be used.\n",
            "  self._init_dates(dates, freq)\n"
          ]
        }
      ]
    },
    {
      "cell_type": "code",
      "source": [
        "result = model.fit(disp=False)"
      ],
      "metadata": {
        "colab": {
          "base_uri": "https://localhost:8080/"
        },
        "id": "x8W6Z3n1ChDt",
        "outputId": "65544d2d-f1c9-4160-9908-3b0e92a47d73"
      },
      "execution_count": 24,
      "outputs": [
        {
          "output_type": "stream",
          "name": "stderr",
          "text": [
            "/usr/local/lib/python3.11/dist-packages/statsmodels/tsa/statespace/sarimax.py:866: UserWarning: Too few observations to estimate starting parameters for seasonal ARMA. All parameters except for variances will be set to zeros.\n",
            "  warn('Too few observations to estimate starting parameters%s.'\n"
          ]
        }
      ]
    },
    {
      "cell_type": "code",
      "source": [
        "print(result.summary())"
      ],
      "metadata": {
        "colab": {
          "base_uri": "https://localhost:8080/"
        },
        "id": "kz6LZDxECnUv",
        "outputId": "26e17084-56d9-4c56-a445-7ab21ed6bad3"
      },
      "execution_count": 25,
      "outputs": [
        {
          "output_type": "stream",
          "name": "stdout",
          "text": [
            "                                      SARIMAX Results                                       \n",
            "============================================================================================\n",
            "Dep. Variable:                              revenue   No. Observations:                   27\n",
            "Model:             SARIMAX(1, 0, 0)x(0, 0, [1], 12)   Log Likelihood                -557.936\n",
            "Date:                              Tue, 24 Jun 2025   AIC                           1121.871\n",
            "Time:                                      17:44:33   BIC                           1125.759\n",
            "Sample:                                  01-01-2023   HQIC                          1123.027\n",
            "                                       - 03-01-2025                                         \n",
            "Covariance Type:                                opg                                         \n",
            "==============================================================================\n",
            "                 coef    std err          z      P>|z|      [0.025      0.975]\n",
            "------------------------------------------------------------------------------\n",
            "ar.L1          0.9733      0.057     17.093      0.000       0.862       1.085\n",
            "ma.S.L12       0.4020      0.612      0.657      0.511      -0.797       1.601\n",
            "sigma2       4.99e+16   1.32e-17   3.77e+33      0.000    4.99e+16    4.99e+16\n",
            "===================================================================================\n",
            "Ljung-Box (L1) (Q):                   1.33   Jarque-Bera (JB):                 0.05\n",
            "Prob(Q):                              0.25   Prob(JB):                         0.97\n",
            "Heteroskedasticity (H):               2.27   Skew:                            -0.06\n",
            "Prob(H) (two-sided):                  0.24   Kurtosis:                         2.82\n",
            "===================================================================================\n",
            "\n",
            "Warnings:\n",
            "[1] Covariance matrix calculated using the outer product of gradients (complex-step).\n",
            "[2] Covariance matrix is singular or near-singular, with condition number 9.37e+49. Standard errors may be unstable.\n"
          ]
        }
      ]
    },
    {
      "cell_type": "markdown",
      "source": [
        "- ar.L1 ≈ 0.97: model AR(1) non-musiman sangat kuat; hampir semua nilai diprediksi dari nilai bulan sebelumnya. Sangat signifikan (p≈0). Nilai sekarang sangat dipengaruhi oleh nilai periode lalu.\n",
        "\n",
        "- ma.S.L12 ≈ 0.40: efek musiman (lag-12) kurang meyakinkan secara statistik. Tidak signifikan (p=0.511). Komponen seasonal MA(1) lemah/uncertain."
      ],
      "metadata": {
        "id": "xaqQ2wcxDKC6"
      }
    },
    {
      "cell_type": "markdown",
      "source": [
        "Tindak Lanjut\n",
        "- Model AR(1) non-musiman bekerja sangat baik (ar.L1 signifikan, residual bersih).\n",
        "- Komponen seasonal MA(1) kurang kuat; Anda bisa coba Q=0 atau cobalah model lain (contoh SARIMA(1,0,0)(0,0,0,12) atau ARIMA(1,0,0)).\n",
        "- Dengan data terbatas (27 titik), pertimbangkan mengurangi kompleksitas seasonal atau menambah lebih banyak data sebelum menguatkan komponen musiman."
      ],
      "metadata": {
        "id": "K28psGrVD2Gx"
      }
    },
    {
      "cell_type": "markdown",
      "source": [
        "Coba model SARIMA(1,0,0)(0,0,0,12) alias ARIMA (1,0,0)"
      ],
      "metadata": {
        "id": "ZQYCxvn-EK9j"
      }
    },
    {
      "cell_type": "code",
      "source": [
        "model = SARIMAX(df['revenue'],\n",
        "                order=(1, 0, 0),\n",
        "                seasonal_order=(0, 0, 0, 12))"
      ],
      "metadata": {
        "colab": {
          "base_uri": "https://localhost:8080/"
        },
        "id": "3M5mBk1eDh7Q",
        "outputId": "d7e4880b-57af-4be1-9eb9-fbb903a10659"
      },
      "execution_count": 26,
      "outputs": [
        {
          "output_type": "stream",
          "name": "stderr",
          "text": [
            "/usr/local/lib/python3.11/dist-packages/statsmodels/tsa/base/tsa_model.py:473: ValueWarning: No frequency information was provided, so inferred frequency MS will be used.\n",
            "  self._init_dates(dates, freq)\n",
            "/usr/local/lib/python3.11/dist-packages/statsmodels/tsa/base/tsa_model.py:473: ValueWarning: No frequency information was provided, so inferred frequency MS will be used.\n",
            "  self._init_dates(dates, freq)\n"
          ]
        }
      ]
    },
    {
      "cell_type": "code",
      "source": [
        "result = model.fit(disp=False)"
      ],
      "metadata": {
        "id": "ds3SvitCEaVD"
      },
      "execution_count": 27,
      "outputs": []
    },
    {
      "cell_type": "code",
      "source": [
        "print(result.summary())"
      ],
      "metadata": {
        "colab": {
          "base_uri": "https://localhost:8080/"
        },
        "id": "KU1Oib2KEd9m",
        "outputId": "95fa3a52-22b0-48b1-cba0-4fbaa1240aa5"
      },
      "execution_count": 28,
      "outputs": [
        {
          "output_type": "stream",
          "name": "stdout",
          "text": [
            "                               SARIMAX Results                                \n",
            "==============================================================================\n",
            "Dep. Variable:                revenue   No. Observations:                   27\n",
            "Model:               SARIMAX(1, 0, 0)   Log Likelihood                -559.174\n",
            "Date:                Tue, 24 Jun 2025   AIC                           1122.347\n",
            "Time:                        17:52:29   BIC                           1124.939\n",
            "Sample:                    01-01-2023   HQIC                          1123.118\n",
            "                         - 03-01-2025                                         \n",
            "Covariance Type:                  opg                                         \n",
            "==============================================================================\n",
            "                 coef    std err          z      P>|z|      [0.025      0.975]\n",
            "------------------------------------------------------------------------------\n",
            "ar.L1          0.9838      0.035     28.085      0.000       0.915       1.052\n",
            "sigma2       4.99e+16   4.07e-21   1.23e+37      0.000    4.99e+16    4.99e+16\n",
            "===================================================================================\n",
            "Ljung-Box (L1) (Q):                   0.66   Jarque-Bera (JB):                 0.32\n",
            "Prob(Q):                              0.41   Prob(JB):                         0.85\n",
            "Heteroskedasticity (H):               2.36   Skew:                            -0.09\n",
            "Prob(H) (two-sided):                  0.22   Kurtosis:                         2.49\n",
            "===================================================================================\n",
            "\n",
            "Warnings:\n",
            "[1] Covariance matrix calculated using the outer product of gradients (complex-step).\n",
            "[2] Covariance matrix is singular or near-singular, with condition number 4.81e+53. Standard errors may be unstable.\n"
          ]
        }
      ]
    },
    {
      "cell_type": "markdown",
      "source": [
        "Diagnostics\n",
        "\n",
        "Ljung-Box Q (L1) p=0.41 → residual acak, tak ada autokorelasi tersisa.\n",
        "\n",
        "Jarque–Bera p=0.85 → residual mendekati normal.\n",
        "\n",
        "Heteroskedastisitas p=0.22 → varians residual stabil."
      ],
      "metadata": {
        "id": "y7GmV1OeFTEy"
      }
    },
    {
      "cell_type": "markdown",
      "source": [
        "Kesimpulan:\n",
        "- Model dengan seasonal MA(1) (Q=1) memiliki AIC sedikit lebih rendah (1121.87 vs 1122.35), meski komponen seasonal itu secara statistik tidak signifikan.\n",
        "- Pilih model sederhana (AR(1) saja) bila Anda butuh parsimoni—perbedaan AIC minimal, residual sama‐sama “bersih”."
      ],
      "metadata": {
        "id": "LlA4SO3mFUmD"
      }
    },
    {
      "cell_type": "markdown",
      "source": [
        "**Revenue Forecast 1 Bulan Kedepan**"
      ],
      "metadata": {
        "id": "cnsM_wNHGJd7"
      }
    },
    {
      "cell_type": "code",
      "source": [
        "forecast = result.get_forecast(steps=1)"
      ],
      "metadata": {
        "id": "DJhHjF0zGNyo"
      },
      "execution_count": 29,
      "outputs": []
    },
    {
      "cell_type": "code",
      "source": [
        "# Ambil nilai prediksi dan interval kepercayaannya\n",
        "pred_mean = forecast.predicted_mean.iloc[0]\n",
        "conf_int  = forecast.conf_int().iloc[0]\n",
        "\n",
        "# predicted_mean adalah nilai yang diprediksi untuk bulan berikutnya\n",
        "# conf_int() mengembalikan interval kepercayaan (default 95%) untuk estimasi tersebut."
      ],
      "metadata": {
        "id": "-lzREerCGkoE"
      },
      "execution_count": 32,
      "outputs": []
    },
    {
      "cell_type": "code",
      "source": [
        "print(f\"Forecast 1 bulan ke depan: {pred_mean:.2f}\")\n",
        "print(\"95% confidence interval:\")\n",
        "print(f\"  Lower bound: {conf_int[0]:.2f}\")\n",
        "print(f\"  Upper bound: {conf_int[1]:.2f}\")"
      ],
      "metadata": {
        "colab": {
          "base_uri": "https://localhost:8080/"
        },
        "id": "5PE4zOZlG1Dp",
        "outputId": "a7a7c322-f594-45aa-a47c-0374c4ef00c2"
      },
      "execution_count": 33,
      "outputs": [
        {
          "output_type": "stream",
          "name": "stdout",
          "text": [
            "Forecast 1 bulan ke depan: 1070978284.40\n",
            "95% confidence interval:\n",
            "  Lower bound: 633172350.72\n",
            "  Upper bound: 1508784218.07\n"
          ]
        },
        {
          "output_type": "stream",
          "name": "stderr",
          "text": [
            "/tmp/ipython-input-33-2508864033.py:3: FutureWarning: Series.__getitem__ treating keys as positions is deprecated. In a future version, integer keys will always be treated as labels (consistent with DataFrame behavior). To access a value by position, use `ser.iloc[pos]`\n",
            "  print(f\"  Lower bound: {conf_int[0]:.2f}\")\n",
            "/tmp/ipython-input-33-2508864033.py:4: FutureWarning: Series.__getitem__ treating keys as positions is deprecated. In a future version, integer keys will always be treated as labels (consistent with DataFrame behavior). To access a value by position, use `ser.iloc[pos]`\n",
            "  print(f\"  Upper bound: {conf_int[1]:.2f}\")\n"
          ]
        }
      ]
    },
    {
      "cell_type": "code",
      "source": [
        "# Buat tanggal untuk forecasting\n",
        "last_date = df.index[-1]\n",
        "next_date = last_date + pd.DateOffset(months=1)\n",
        "\n",
        "# Masukkan ke DataFrame\n",
        "df_forecast = pd.DataFrame({\n",
        "    'forecast': [pred_mean],\n",
        "    'lower_ci': [conf_int[0]],\n",
        "    'upper_ci': [conf_int[1]]\n",
        "}, index=[next_date])\n",
        "\n",
        "# Gabungkan dengan data historis untuk plotting\n",
        "df_all = pd.concat([df[['revenue']], df_forecast], axis=0)\n",
        "\n",
        "# Plot\n",
        "import matplotlib.pyplot as plt\n",
        "plt.figure(figsize=(8,4))\n",
        "df_all['revenue'].plot(label='Historical')\n",
        "df_all['forecast'].plot(label='Forecast', marker='o')\n",
        "plt.fill_between(df_forecast.index,\n",
        "                 df_forecast['lower_ci'],\n",
        "                 df_forecast['upper_ci'],\n",
        "                 alpha=0.3)\n",
        "plt.legend()\n",
        "plt.show()"
      ],
      "metadata": {
        "colab": {
          "base_uri": "https://localhost:8080/",
          "height": 491
        },
        "id": "-PpQ7450HCz4",
        "outputId": "e1414c36-b2c3-4767-eff6-edb09fd4d35c"
      },
      "execution_count": 34,
      "outputs": [
        {
          "output_type": "stream",
          "name": "stderr",
          "text": [
            "/tmp/ipython-input-34-108745154.py:8: FutureWarning: Series.__getitem__ treating keys as positions is deprecated. In a future version, integer keys will always be treated as labels (consistent with DataFrame behavior). To access a value by position, use `ser.iloc[pos]`\n",
            "  'lower_ci': [conf_int[0]],\n",
            "/tmp/ipython-input-34-108745154.py:9: FutureWarning: Series.__getitem__ treating keys as positions is deprecated. In a future version, integer keys will always be treated as labels (consistent with DataFrame behavior). To access a value by position, use `ser.iloc[pos]`\n",
            "  'upper_ci': [conf_int[1]]\n"
          ]
        },
        {
          "output_type": "display_data",
          "data": {
            "text/plain": [
              "<Figure size 800x400 with 1 Axes>"
            ],
            "image/png": "[encoded data removed]"
          },
          "metadata": {}
        }
      ]
    }
  ]
}